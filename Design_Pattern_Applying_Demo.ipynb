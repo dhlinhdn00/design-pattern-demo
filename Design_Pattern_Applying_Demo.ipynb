{
 "cells": [
  {
   "cell_type": "markdown",
   "metadata": {},
   "source": [
    "# Set up"
   ]
  },
  {
   "cell_type": "code",
   "execution_count": 1,
   "metadata": {},
   "outputs": [],
   "source": [
    "from abc import ABC, abstractmethod"
   ]
  },
  {
   "cell_type": "markdown",
   "metadata": {},
   "source": [
    "# Factory Method Demo"
   ]
  },
  {
   "cell_type": "code",
   "execution_count": 2,
   "metadata": {},
   "outputs": [],
   "source": [
    "# Abstract Product in Factory Method\n",
    "# Component in Decorator\n",
    "class PaymentMethod(ABC):\n",
    "    @abstractmethod\n",
    "    def process_payment(self, amount, user):\n",
    "        pass"
   ]
  },
  {
   "cell_type": "code",
   "execution_count": 3,
   "metadata": {},
   "outputs": [],
   "source": [
    "# Concrete Products in Factory Method\n",
    "# Concrete Components in Decorator\n",
    "class CreditCardPayment(PaymentMethod):\n",
    "    def process_payment(self, amount, user):\n",
    "        print(f\"Processing credit card payment of {amount}.\")\n",
    "\n",
    "class PayPalPayment(PaymentMethod):\n",
    "    def process_payment(self, amount, user):\n",
    "        if not user.is_paypal_verified:\n",
    "            print(\"User's PayPal account is not verified.\")\n",
    "            return\n",
    "        print(f\"Processing PayPal payment of {amount}.\")\n",
    "\n",
    "class BankTransferPayment(PaymentMethod):\n",
    "    def process_payment(self, amount, user):\n",
    "        if amount <= 3000:\n",
    "            print(\"Bank Transfer requires an amount greater than 3000.\")\n",
    "            return\n",
    "        print(f\"Processing bank transfer payment of {amount}.\")\n",
    "\n",
    "class BitCoinPayment(PaymentMethod):\n",
    "    def process_payment(self, amount, user):\n",
    "        if amount > 10000:\n",
    "            print(\"BitCoin payment cannot process amounts over 10000.\")\n",
    "            return\n",
    "        print(f\"Processing BitCoin payment of {amount}.\")\n",
    "\n",
    "class ApplePayPayment(PaymentMethod):\n",
    "    def process_payment(self, amount, user):\n",
    "        if user.region not in ['US', 'UK', 'Canada']:\n",
    "            print(\"Apple Pay is not available in your region.\")\n",
    "            return\n",
    "        print(f\"Processing Apple Pay payment of {amount}.\")\n",
    "\n",
    "# # For Expand Case\n",
    "# class GooglePayPayment(PaymentMethod):\n",
    "#     def process_payment(self, amount, user):\n",
    "#         print(f\"Processing Google Pay payment of {amount}.\")\n",
    "#         # Add more if you want! \n",
    "\n"
   ]
  },
  {
   "cell_type": "code",
   "execution_count": 4,
   "metadata": {},
   "outputs": [],
   "source": [
    "# Abstract Creator\n",
    "class PaymentCreator(ABC):\n",
    "    @abstractmethod\n",
    "    def create_payment_method(self, method_type):\n",
    "        pass\n"
   ]
  },
  {
   "cell_type": "code",
   "execution_count": 5,
   "metadata": {},
   "outputs": [],
   "source": [
    "# Concreate Creator\n",
    "class PaymentFactory:\n",
    "    def create_payment_method(self, method_type):\n",
    "        if method_type == \"credit_card\":\n",
    "            return CreditCardPayment()\n",
    "        elif method_type == \"paypal\":\n",
    "            return PayPalPayment()\n",
    "        elif method_type == \"bank_transfer\":\n",
    "            return BankTransferPayment()\n",
    "        elif method_type == \"bitcoin\":\n",
    "            return BitCoinPayment()\n",
    "        elif method_type == \"apple_pay\":\n",
    "            return ApplePayPayment()\n",
    "        # # For Expand Case\n",
    "        # elif method_type == \"google_pay\":\n",
    "        #     return GooglePayPayment()\n",
    "        else:\n",
    "            raise ValueError(\"Invalid payment method.\")\n"
   ]
  },
  {
   "cell_type": "code",
   "execution_count": 6,
   "metadata": {},
   "outputs": [],
   "source": [
    "class User:\n",
    "    def __init__(self, is_paypal_verified, region):\n",
    "        self.is_paypal_verified = is_paypal_verified\n",
    "        self.region = region\n"
   ]
  },
  {
   "cell_type": "code",
   "execution_count": 7,
   "metadata": {},
   "outputs": [
    {
     "name": "stdout",
     "output_type": "stream",
     "text": [
      "Processing PayPal payment of 5000.\n",
      "Bank Transfer requires an amount greater than 3000.\n",
      "BitCoin payment cannot process amounts over 10000.\n",
      "Processing Apple Pay payment of 3000.\n"
     ]
    }
   ],
   "source": [
    "if __name__ == \"__main__\":\n",
    "    factory = PaymentFactory()\n",
    "    user = User(is_paypal_verified=True, region='US')\n",
    "    \n",
    "    # Pay by Paypal\n",
    "    payment_method_1 = factory.create_payment_method(\"paypal\")\n",
    "    payment_method_1.process_payment(5000, user)\n",
    "\n",
    "    # Pay by Bank Transfer < 3000 (rejected)\n",
    "    payment_method_2 = factory.create_payment_method(\"bank_transfer\")\n",
    "    payment_method_2.process_payment(2999, user)\n",
    "\n",
    "    # Pay by Bank Transfer > 10000 (rejected))\n",
    "    payment_method_3 = factory.create_payment_method(\"bitcoin\")\n",
    "    payment_method_3.process_payment(15000, user)\n",
    "\n",
    "    # Pay by Apple Pay\n",
    "    payment_method_4 = factory.create_payment_method(\"apple_pay\")\n",
    "    payment_method_4.process_payment(3000, user)\n",
    "\n",
    "    # # For Expanded Case\n",
    "    # payment_method_5 = factory.create_payment_method(\"google_pay\")\n",
    "    # payment_method_5.process_payment(4000, user)\n"
   ]
  },
  {
   "cell_type": "markdown",
   "metadata": {},
   "source": [
    "# Decorator Demo"
   ]
  },
  {
   "cell_type": "code",
   "execution_count": 8,
   "metadata": {},
   "outputs": [],
   "source": [
    "# Decorator\n",
    "class PaymentDecorator(PaymentMethod):\n",
    "    def __init__(self, payment_method):\n",
    "        self._payment_method = payment_method\n",
    "\n",
    "    @abstractmethod\n",
    "    def process_payment(self, amount, user):\n",
    "        pass\n"
   ]
  },
  {
   "cell_type": "code",
   "execution_count": 9,
   "metadata": {},
   "outputs": [],
   "source": [
    "# Concrete Decorators\n",
    "\n",
    "# ConcreteDecorator - Transaction Fee\n",
    "class TransactionFeeDecorator(PaymentDecorator):\n",
    "    def process_payment(self, amount, user):\n",
    "        fee = amount * 0.02  # 2% transaction fee\n",
    "        amount_with_fee = amount + fee\n",
    "        print(f\"Adding transaction fee of {fee}. New amount: {amount_with_fee}\")\n",
    "        self._payment_method.process_payment(amount_with_fee, user)\n",
    "\n",
    "# ConcreteDecorator - Discount\n",
    "class DiscountDecorator(PaymentDecorator):\n",
    "    def process_payment(self, amount, user):\n",
    "        discount = amount * 0.05  # 5% discount\n",
    "        amount_with_discount = amount - discount\n",
    "        print(f\"Applying discount of {discount}. New amount: {amount_with_discount}\")\n",
    "        self._payment_method.process_payment(amount_with_discount, user)\n",
    "\n",
    "# ConcreteDecorator - Logging\n",
    "class LoggingDecorator(PaymentDecorator):\n",
    "    def process_payment(self, amount, user):\n",
    "        print(f\"Logging payment of {amount} for user {user.id}\")\n",
    "        self._payment_method.process_payment(amount, user)\n"
   ]
  },
  {
   "cell_type": "code",
   "execution_count": 10,
   "metadata": {},
   "outputs": [],
   "source": [
    "class User:\n",
    "    def __init__(self, user_id, is_paypal_verified, region):\n",
    "        self.id = user_id\n",
    "        self.is_paypal_verified = is_paypal_verified\n",
    "        self.region = region\n"
   ]
  },
  {
   "cell_type": "code",
   "execution_count": 11,
   "metadata": {},
   "outputs": [
    {
     "name": "stdout",
     "output_type": "stream",
     "text": [
      "Logging payment of 1000 for user user123\n",
      "Applying discount of 50.0. New amount: 950.0\n",
      "Adding transaction fee of 19.0. New amount: 969.0\n",
      "Processing credit card payment of 969.0.\n"
     ]
    }
   ],
   "source": [
    "if __name__ == \"__main__\":\n",
    "    factory = PaymentFactory()\n",
    "    user = User(user_id='user123', is_paypal_verified=True, region='US')\n",
    "\n",
    "    # Tạo phương thức thanh toán cơ bản\n",
    "    payment_method = factory.create_payment_method(\"credit_card\")\n",
    "\n",
    "    # Áp dụng Decorators\n",
    "    payment_with_fee = TransactionFeeDecorator(payment_method)\n",
    "    payment_with_discount = DiscountDecorator(payment_with_fee)\n",
    "    payment_with_logging = LoggingDecorator(payment_with_discount)\n",
    "\n",
    "    # Thực hiện thanh toán với các decorators\n",
    "    payment_with_logging.process_payment(1000, user)\n"
   ]
  },
  {
   "cell_type": "markdown",
   "metadata": {},
   "source": [
    "# Chain Of Responsibility"
   ]
  },
  {
   "cell_type": "code",
   "execution_count": 12,
   "metadata": {},
   "outputs": [],
   "source": [
    "# Handler\n",
    "class PaymentHandler(ABC):\n",
    "    def __init__(self, next_handler=None):\n",
    "        self._next_handler = next_handler\n",
    "\n",
    "    def set_next(self, handler):\n",
    "        self._next_handler = handler\n",
    "\n",
    "    @abstractmethod\n",
    "    def handle(self, amount, user):\n",
    "        if self._next_handler:\n",
    "            return self._next_handler.handle(amount, user)\n",
    "        return True"
   ]
  },
  {
   "cell_type": "code",
   "execution_count": 13,
   "metadata": {},
   "outputs": [],
   "source": [
    "# Concrete Handlers \n",
    "class PayPalVerificationHandler(PaymentHandler):\n",
    "    def handle(self, amount, user):\n",
    "        if not user.is_paypal_verified:\n",
    "            print(\"User's PayPal account is not verified.\")\n",
    "            return False\n",
    "        print(\"User's PayPal account is verified.\")\n",
    "        return super().handle(amount, user)\n",
    "    \n",
    "class AmountCheckHandler(PaymentHandler):\n",
    "    def handle(self, amount, user):\n",
    "        if amount <= 0:\n",
    "            print(\"Invalid payment amount. Must be greater than 0.\")\n",
    "            return False\n",
    "        if amount > 10000:\n",
    "            print(\"Payment amount exceeds the maximum limit of 10000.\")\n",
    "            return False\n",
    "        print(f\"Payment amount {amount} is valid.\")\n",
    "        return super().handle(amount, user)\n",
    "\n",
    "class FinalPaymentHandler(PaymentHandler):\n",
    "    def __init__(self, payment_method):\n",
    "        super().__init__()\n",
    "        self.payment_method = payment_method\n",
    "\n",
    "    def handle(self, amount, user):\n",
    "        print(\"All checks passed. Processing payment...\")\n",
    "        self.payment_method.process_payment(amount, user)\n",
    "        return True\n"
   ]
  },
  {
   "cell_type": "code",
   "execution_count": 14,
   "metadata": {},
   "outputs": [],
   "source": [
    "class User:\n",
    "    def __init__(self, user_id, is_paypal_verified, region):\n",
    "        self.id = user_id\n",
    "        self.is_paypal_verified = is_paypal_verified\n",
    "        self.region = region\n"
   ]
  },
  {
   "cell_type": "code",
   "execution_count": 15,
   "metadata": {},
   "outputs": [
    {
     "name": "stdout",
     "output_type": "stream",
     "text": [
      "User's PayPal account is verified.\n",
      "Payment amount 5000 is valid.\n",
      "All checks passed. Processing payment...\n",
      "Processing PayPal payment of 5000.\n"
     ]
    }
   ],
   "source": [
    "if __name__ == \"__main__\":\n",
    "    # Tạo factory để tạo phương thức thanh toán\n",
    "    factory = PaymentFactory()\n",
    "    user = User(user_id='user123', is_paypal_verified=True, region='US')\n",
    "\n",
    "    # Chọn phương thức thanh toán (CreditCard hoặc PayPal)\n",
    "    payment_method = factory.create_payment_method(\"paypal\")\n",
    "\n",
    "    # Tạo các handler cho chuỗi xử lý\n",
    "    paypal_verification = PayPalVerificationHandler()\n",
    "    amount_check = AmountCheckHandler()\n",
    "    final_payment = FinalPaymentHandler(payment_method)\n",
    "\n",
    "    # Xây dựng chuỗi trách nhiệm\n",
    "    paypal_verification.set_next(amount_check)\n",
    "    amount_check.set_next(final_payment)\n",
    "\n",
    "    # Bắt đầu xử lý thanh toán thông qua chuỗi\n",
    "    paypal_verification.handle(5000, user)\n"
   ]
  },
  {
   "cell_type": "markdown",
   "metadata": {},
   "source": [
    "# Total Combination"
   ]
  },
  {
   "cell_type": "code",
   "execution_count": 16,
   "metadata": {},
   "outputs": [
    {
     "name": "stdout",
     "output_type": "stream",
     "text": [
      "User's PayPal account is verified.\n",
      "Payment amount 5000 is valid.\n",
      "All checks passed. Processing payment...\n",
      "Logging payment of 5000 for user user123\n",
      "Applying discount of 250.0. New amount: 4750.0\n",
      "Adding transaction fee of 95.0. New amount: 4845.0\n",
      "Processing PayPal payment of 4845.0.\n"
     ]
    }
   ],
   "source": [
    "from abc import ABC, abstractmethod\n",
    "\n",
    "# ======= Payment Methods =======\n",
    "class PaymentMethod(ABC):\n",
    "    @abstractmethod\n",
    "    def process_payment(self, amount, user):\n",
    "        pass\n",
    "\n",
    "class CreditCardPayment(PaymentMethod):\n",
    "    def process_payment(self, amount, user):\n",
    "        print(f\"Processing credit card payment of {amount}.\")\n",
    "\n",
    "class PayPalPayment(PaymentMethod):\n",
    "    def process_payment(self, amount, user):\n",
    "        if not user.is_paypal_verified:\n",
    "            print(\"User's PayPal account is not verified.\")\n",
    "            return\n",
    "        print(f\"Processing PayPal payment of {amount}.\")\n",
    "\n",
    "class BankTransferPayment(PaymentMethod):\n",
    "    def process_payment(self, amount, user):\n",
    "        if amount <= 3000:\n",
    "            print(\"Bank Transfer requires an amount greater than 3000.\")\n",
    "            return\n",
    "        print(f\"Processing bank transfer payment of {amount}.\")\n",
    "\n",
    "class BitCoinPayment(PaymentMethod):\n",
    "    def process_payment(self, amount, user):\n",
    "        if amount > 10000:\n",
    "            print(\"BitCoin payment cannot process amounts over 10000.\")\n",
    "            return\n",
    "        print(f\"Processing BitCoin payment of {amount}.\")\n",
    "\n",
    "class ApplePayPayment(PaymentMethod):\n",
    "    def process_payment(self, amount, user):\n",
    "        if user.region not in ['US', 'UK', 'Canada']:\n",
    "            print(\"Apple Pay is not available in your region.\")\n",
    "            return\n",
    "        print(f\"Processing Apple Pay payment of {amount}.\")\n",
    "\n",
    "# ======= Payment Creation =======\n",
    "class PaymentFactory:\n",
    "    def create_payment_method(self, method_type):\n",
    "        if method_type == \"credit_card\":\n",
    "            return CreditCardPayment()\n",
    "        elif method_type == \"paypal\":\n",
    "            return PayPalPayment()\n",
    "        elif method_type == \"bank_transfer\":\n",
    "            return BankTransferPayment()\n",
    "        elif method_type == \"bitcoin\":\n",
    "            return BitCoinPayment()\n",
    "        elif method_type == \"apple_pay\":\n",
    "            return ApplePayPayment()\n",
    "        else:\n",
    "            raise ValueError(\"Invalid payment method.\")\n",
    "\n",
    "# ======= User Class =======\n",
    "class User:\n",
    "    def __init__(self, user_id, is_paypal_verified, region):\n",
    "        self.id = user_id\n",
    "        self.is_paypal_verified = is_paypal_verified\n",
    "        self.region = region\n",
    "\n",
    "# ======= Payment Processing Flow =======\n",
    "class PaymentHandler(ABC):\n",
    "    def __init__(self, next_handler=None):\n",
    "        self._next_handler = next_handler\n",
    "\n",
    "    def set_next(self, handler):\n",
    "        self._next_handler = handler\n",
    "\n",
    "    @abstractmethod\n",
    "    def handle(self, amount, user):\n",
    "        if self._next_handler:\n",
    "            return self._next_handler.handle(amount, user)\n",
    "        return True\n",
    "\n",
    "class PayPalVerificationHandler(PaymentHandler):\n",
    "    def handle(self, amount, user):\n",
    "        if not user.is_paypal_verified:\n",
    "            print(\"User's PayPal account is not verified.\")\n",
    "            return False\n",
    "        print(\"User's PayPal account is verified.\")\n",
    "        return super().handle(amount, user)\n",
    "\n",
    "class AmountCheckHandler(PaymentHandler):\n",
    "    def handle(self, amount, user):\n",
    "        if amount <= 0:\n",
    "            print(\"Invalid payment amount. Must be greater than 0.\")\n",
    "            return False\n",
    "        if amount > 10000:\n",
    "            print(\"Payment amount exceeds the maximum limit of 10000.\")\n",
    "            return False\n",
    "        print(f\"Payment amount {amount} is valid.\")\n",
    "        return super().handle(amount, user)\n",
    "\n",
    "class FinalPaymentHandler(PaymentHandler):\n",
    "    def __init__(self, payment_method):\n",
    "        super().__init__()\n",
    "        self.payment_method = payment_method\n",
    "\n",
    "    def handle(self, amount, user):\n",
    "        print(\"All checks passed. Processing payment...\")\n",
    "        self.payment_method.process_payment(amount, user)\n",
    "        return True\n",
    "\n",
    "# ======= Payment Enhancements (Optional Decorators) =======\n",
    "class PaymentEnhancement(PaymentMethod):\n",
    "    def __init__(self, payment_method):\n",
    "        self._payment_method = payment_method\n",
    "\n",
    "class TransactionFee(PaymentEnhancement):\n",
    "    def process_payment(self, amount, user):\n",
    "        fee = amount * 0.02\n",
    "        print(f\"Adding transaction fee of {fee}. New amount: {amount + fee}\")\n",
    "        self._payment_method.process_payment(amount + fee, user)\n",
    "\n",
    "class Discount(PaymentEnhancement):\n",
    "    def process_payment(self, amount, user):\n",
    "        discount = amount * 0.05\n",
    "        print(f\"Applying discount of {discount}. New amount: {amount - discount}\")\n",
    "        self._payment_method.process_payment(amount - discount, user)\n",
    "\n",
    "class PaymentLogger(PaymentEnhancement):\n",
    "    def process_payment(self, amount, user):\n",
    "        print(f\"Logging payment of {amount} for user {user.id}\")\n",
    "        self._payment_method.process_payment(amount, user)\n",
    "\n",
    "# ======= Main Payment Process =======\n",
    "if __name__ == \"__main__\":\n",
    "    # Create User\n",
    "    user = User(user_id='user123', is_paypal_verified=True, region='US')\n",
    "\n",
    "    # Create Payment Method\n",
    "    factory = PaymentFactory()\n",
    "    payment_method = factory.create_payment_method(\"paypal\")\n",
    "\n",
    "    # Apply Logging, discount and transaction feee\n",
    "    payment_with_fee = TransactionFee(payment_method)\n",
    "    payment_with_discount = Discount(payment_with_fee)\n",
    "    payment_with_logging = PaymentLogger(payment_with_discount)\n",
    "\n",
    "    # Set up the chain of checks\n",
    "    paypal_verification = PayPalVerificationHandler()\n",
    "    amount_check = AmountCheckHandler()\n",
    "    final_payment = FinalPaymentHandler(payment_with_logging)\n",
    "\n",
    "    paypal_verification.set_next(amount_check)\n",
    "    amount_check.set_next(final_payment)\n",
    "\n",
    "    # Process payment\n",
    "    paypal_verification.handle(5000, user)\n"
   ]
  }
 ],
 "metadata": {
  "kernelspec": {
   "display_name": "env",
   "language": "python",
   "name": "python3"
  },
  "language_info": {
   "codemirror_mode": {
    "name": "ipython",
    "version": 3
   },
   "file_extension": ".py",
   "mimetype": "text/x-python",
   "name": "python",
   "nbconvert_exporter": "python",
   "pygments_lexer": "ipython3",
   "version": "3.11.5"
  }
 },
 "nbformat": 4,
 "nbformat_minor": 2
}
