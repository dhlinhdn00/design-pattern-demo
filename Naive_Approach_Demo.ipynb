{
 "cells": [
  {
   "cell_type": "markdown",
   "metadata": {},
   "source": [
    "# Compare to Factory Method"
   ]
  },
  {
   "cell_type": "code",
   "execution_count": 15,
   "metadata": {},
   "outputs": [],
   "source": [
    "class PaymentSystemNaiveDemo1:\n",
    "    def __init__(self, method_type):\n",
    "        self.method_type = method_type\n",
    "\n",
    "    def process_payment(self, amount, user):\n",
    "        if self.method_type == \"credit_card\":\n",
    "            print(f\"Processing credit card payment of {amount}.\")\n",
    "        elif self.method_type == \"paypal\":\n",
    "            if not user.is_paypal_verified:\n",
    "                print(\"User's PayPal account is not verified.\")\n",
    "                return\n",
    "            print(f\"Processing PayPal payment of {amount}.\")\n",
    "        elif self.method_type == \"bank_transfer\":\n",
    "            if amount <= 3000:\n",
    "                print(\"Bank Transfer requires an amount greater than 3000.\")\n",
    "                return\n",
    "            print(f\"Processing bank transfer payment of {amount}.\")\n",
    "        elif self.method_type == \"bitcoin\":\n",
    "            if amount > 10000:\n",
    "                print(\"BitCoin payment cannot process amounts over 10000.\")\n",
    "                return\n",
    "            print(f\"Processing BitCoin payment of {amount}.\")\n",
    "        elif self.method_type == \"apple_pay\":\n",
    "            if user.region not in ['US', 'UK', 'Canada']:\n",
    "                print(\"Apple Pay is not available in your region.\")\n",
    "                return\n",
    "            print(f\"Processing Apple Pay payment of {amount}.\")\n",
    "        # # For Expanded Case\n",
    "        # elif self.method_type == \"gooogle_pay\":\n",
    "        #     print(f\"Processing Google Pay payment of {amount}.\")\n",
    "        else:\n",
    "            print(\"Invalid payment method.\")\n"
   ]
  },
  {
   "cell_type": "code",
   "execution_count": 17,
   "metadata": {},
   "outputs": [],
   "source": [
    "class User:\n",
    "    def __init__(self, is_paypal_verified, region):\n",
    "        self.is_paypal_verified = is_paypal_verified\n",
    "        self.region = region"
   ]
  },
  {
   "cell_type": "code",
   "execution_count": 18,
   "metadata": {},
   "outputs": [
    {
     "name": "stdout",
     "output_type": "stream",
     "text": [
      "Processing PayPal payment of 5000.\n",
      "Bank Transfer requires an amount greater than 3000.\n",
      "BitCoin payment cannot process amounts over 10000.\n",
      "Processing Apple Pay payment of 3000.\n"
     ]
    }
   ],
   "source": [
    "if __name__ == \"__main__\":\n",
    "    user = User(is_paypal_verified=True, region='US')\n",
    "    payment_system_1 = PaymentSystemNaiveDemo1(\"paypal\")\n",
    "    payment_system_1.process_payment(5000, user)\n",
    "\n",
    "    payment_system_2 = PaymentSystemNaiveDemo1(\"bank_transfer\")\n",
    "    payment_system_2.process_payment(2999, user) \n",
    "\n",
    "    payment_system_3 = PaymentSystemNaiveDemo1(\"bitcoin\")\n",
    "    payment_system_3.process_payment(15000, user)  \n",
    "\n",
    "    payment_system_4 = PaymentSystemNaiveDemo1(\"apple_pay\")\n",
    "    payment_system_4.process_payment(3000, user)\n",
    "\n",
    "    # # For Expanded Case\n",
    "    # payment_system_5 = PaymentSystemNaive(\"google_pay\")\n",
    "    # payment_system_5.process_payment(4000, user)\n"
   ]
  },
  {
   "cell_type": "markdown",
   "metadata": {},
   "source": [
    "# Compare to Decorator"
   ]
  },
  {
   "cell_type": "code",
   "execution_count": 19,
   "metadata": {},
   "outputs": [],
   "source": [
    "class PaymentSystemNaiveDemo2:\n",
    "    def process_payment(self, amount, user, apply_fee=False, apply_discount=False, log_payment=False):\n",
    "\n",
    "        if log_payment:\n",
    "            print(f\"Logging payment of {amount} for user {user.id}\")\n",
    "        \n",
    "        if apply_discount:\n",
    "            discount = amount * 0.05\n",
    "            amount -= discount\n",
    "            print(f\"Applying discount of {discount}. New amount: {amount}\")\n",
    "\n",
    "        if apply_fee:\n",
    "            fee = amount * 0.02\n",
    "            amount += fee\n",
    "            print(f\"Adding transaction fee of {fee}. New amount: {amount}\")\n",
    "        \n",
    "        print(f\"Processing payment of {amount}.\")\n"
   ]
  },
  {
   "cell_type": "code",
   "execution_count": 20,
   "metadata": {},
   "outputs": [],
   "source": [
    "class User:\n",
    "    def __init__(self, user_id, is_paypal_verified, region):\n",
    "        self.id = user_id\n",
    "        self.is_paypal_verified = is_paypal_verified\n",
    "        self.region = region\n"
   ]
  },
  {
   "cell_type": "code",
   "execution_count": 21,
   "metadata": {},
   "outputs": [
    {
     "name": "stdout",
     "output_type": "stream",
     "text": [
      "Logging payment of 1000 for user user123\n",
      "Applying discount of 50.0. New amount: 950.0\n",
      "Adding transaction fee of 19.0. New amount: 969.0\n",
      "Processing payment of 969.0.\n"
     ]
    }
   ],
   "source": [
    "if __name__ == \"__main__\":\n",
    "    user = User(user_id='user123', is_paypal_verified=True, region='US')\n",
    "    payment_method = PaymentSystemNaiveDemo2()\n",
    "    payment_method.process_payment(1000, user, apply_fee=True, apply_discount=True, log_payment=True)\n"
   ]
  },
  {
   "cell_type": "markdown",
   "metadata": {},
   "source": [
    "# Compare to Chain Of Responsibility"
   ]
  },
  {
   "cell_type": "code",
   "execution_count": 22,
   "metadata": {},
   "outputs": [],
   "source": [
    "class PaymentSystemNaiveDemo3:\n",
    "    def process_payment(self, amount, user):\n",
    "        # Check Verification\n",
    "        if not user.is_paypal_verified:\n",
    "            print(\"User's PayPal account is not verified.\")\n",
    "            return\n",
    "        else:\n",
    "            print((\"User's PayPal account is verified.\"))\n",
    "\n",
    "        # Check Valid\n",
    "        if amount <= 0:\n",
    "            print(\"Invalid payment amount. Must be greater than 0.\")\n",
    "            return\n",
    "        if amount > 10000:\n",
    "            print(\"Payment amount exceeds the maximum limit of 10000.\")\n",
    "            return\n",
    "        print(f\"Payment amount {amount} is valid.\")\n",
    "        print(\"All checks passed. Processing payment...\")\n",
    "        print(f\"Processing payment of {amount}.\")\n"
   ]
  },
  {
   "cell_type": "code",
   "execution_count": 23,
   "metadata": {},
   "outputs": [],
   "source": [
    "class User:\n",
    "    def __init__(self, user_id, is_paypal_verified, region):\n",
    "        self.id = user_id\n",
    "        self.is_paypal_verified = is_paypal_verified\n",
    "        self.region = region\n"
   ]
  },
  {
   "cell_type": "code",
   "execution_count": 24,
   "metadata": {},
   "outputs": [
    {
     "name": "stdout",
     "output_type": "stream",
     "text": [
      "User's PayPal account is verified.\n",
      "Payment amount 1000 is valid.\n",
      "All checks passed. Processing payment...\n",
      "Processing payment of 1000.\n"
     ]
    }
   ],
   "source": [
    "if __name__ == \"__main__\":\n",
    "    user = User(user_id='user123', is_paypal_verified=True, region='US')\n",
    "    payment_method = PaymentSystemNaiveDemo3()\n",
    "    payment_method.process_payment(1000, user)\n"
   ]
  }
 ],
 "metadata": {
  "kernelspec": {
   "display_name": "env",
   "language": "python",
   "name": "python3"
  },
  "language_info": {
   "codemirror_mode": {
    "name": "ipython",
    "version": 3
   },
   "file_extension": ".py",
   "mimetype": "text/x-python",
   "name": "python",
   "nbconvert_exporter": "python",
   "pygments_lexer": "ipython3",
   "version": "3.9.19"
  }
 },
 "nbformat": 4,
 "nbformat_minor": 2
}
